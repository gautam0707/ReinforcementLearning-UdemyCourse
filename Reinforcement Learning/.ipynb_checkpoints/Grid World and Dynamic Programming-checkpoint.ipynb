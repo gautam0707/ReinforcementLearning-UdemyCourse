{
 "cells": [
  {
   "cell_type": "code",
   "execution_count": 1,
   "metadata": {
    "collapsed": true
   },
   "outputs": [],
   "source": [
    "from __future__ import print_function, division\n",
    "from builtins import range\n",
    "\n",
    "import numpy as np"
   ]
  },
  {
   "cell_type": "code",
   "execution_count": 3,
   "metadata": {
    "collapsed": false
   },
   "outputs": [],
   "source": [
    "class Grid:\n",
    "    def __init__(self, width, height, start):\n",
    "        self.width = width\n",
    "        self.height = height\n",
    "        self.i = start[0]\n",
    "        self.j = start[1]\n",
    "        \n",
    "    def set(self, rewards, actions):\n",
    "        self.rewards = rewards\n",
    "        self.actions = actions\n",
    "    \n",
    "    def set_state(self, s):\n",
    "        self.i = s[0]\n",
    "        self.j = s[1]\n",
    "        \n",
    "    def current_state(self):\n",
    "        return (self.i, self.j)\n",
    "\n",
    "    def is_terminal(self, s):\n",
    "        return s not in self.actions\n",
    "    \n",
    "    def move(self, action):\n",
    "        if action in self.actions[(self.i, self.j)]:\n",
    "            if action == 'U':\n",
    "                self.i -= 1\n",
    "            elif action == 'D':\n",
    "                self.i += 1\n",
    "            elif action == 'R':\n",
    "                self.j += 1\n",
    "            elif action == 'L':\n",
    "                self.j -= 1\n",
    "        return self.rewards.get((self.i, self.j), 0)\n",
    "    \n",
    "    def undo_move(self, action):\n",
    "        if action == 'U':\n",
    "            self.i += 1\n",
    "        elif action == 'D':\n",
    "            self.i -= 1\n",
    "        elif action == 'R':\n",
    "            self.j -= 1\n",
    "        elif action == 'L':\n",
    "            self.j += 1\n",
    "        assert(self.current_state() in self.all_states())\n",
    "    \n",
    "    def game_over(self):\n",
    "        return (self.i, self.j) not in self.actions\n",
    "    \n",
    "    def all_states(self):\n",
    "        return set(self.actions.keys()) | set(self.rewards.keys())\n",
    "    \n"
   ]
  },
  {
   "cell_type": "code",
   "execution_count": 20,
   "metadata": {
    "collapsed": false
   },
   "outputs": [],
   "source": [
    "def standard_grid():\n",
    "    g = Grid(3, 4, (2,0))\n",
    "    rewards = {(0,3):1, (1,3):-1}\n",
    "    actions = {\n",
    "        (0, 0): ('D', 'R'),\n",
    "        (0, 1): ('L', 'R'),\n",
    "        (0, 2): ('L', 'D', 'R'),\n",
    "        (1, 0): ('U', 'D'),\n",
    "        (1, 2): ('U', 'D', 'R'),\n",
    "        (2, 0): ('U', 'R'),\n",
    "        (2, 1): ('L', 'R'),\n",
    "        (2, 2): ('L', 'R', 'U'),\n",
    "        (2, 3): ('L', 'U'),\n",
    "              }\n",
    "    g.set(rewards, actions)\n",
    "    return g\n",
    "\n",
    "def negative_grid(step_cost=-0.1):\n",
    "    g = standard_grid()\n",
    "    g.rewards.update({\n",
    "        (0, 0): step_cost,\n",
    "        (0, 1): step_cost,\n",
    "        (0, 2): step_cost,\n",
    "        (1, 0): step_cost,\n",
    "        (1, 2): step_cost,\n",
    "        (2, 0): step_cost,\n",
    "        (2, 1): step_cost,\n",
    "        (2, 2): step_cost,\n",
    "        (2, 3): step_cost,\n",
    "              })\n",
    "    return g\n",
    "    \n",
    "    "
   ]
  },
  {
   "cell_type": "code",
   "execution_count": 21,
   "metadata": {
    "collapsed": true
   },
   "outputs": [],
   "source": [
    "SMALL_ENOUGH = 1e-3\n",
    "\n",
    "def print_values(V, g):\n",
    "    for i in range(g.width):\n",
    "        print(\"---------------------------\")\n",
    "        for j in range(g.height):\n",
    "            v = V.get((i,j), 0)\n",
    "            if v>=0:\n",
    "                print(\" %.2f|\"%v, end='')\n",
    "            else:\n",
    "                print(\"%.2f|\"%v, end='')\n",
    "        print()\n",
    "\n",
    "def print_policy(P, g):\n",
    "    for i in range(g.width):\n",
    "        print(\"---------------------------\")\n",
    "        for j in range(g.height):\n",
    "            a = P.get((i,j), ' ')\n",
    "            print(\"  %s  |\" % a, end=\"\")\n",
    "        print(\"\")"
   ]
  },
  {
   "cell_type": "code",
   "execution_count": 22,
   "metadata": {
    "collapsed": false
   },
   "outputs": [
    {
     "name": "stdout",
     "output_type": "stream",
     "text": [
      "{(0, 1), (1, 2), (0, 0), (1, 3), (2, 1), (2, 0), (2, 3), (2, 2), (1, 0), (0, 2), (0, 3)}\n"
     ]
    }
   ],
   "source": [
    "grid = standard_grid()\n",
    "states = grid.all_states()\n",
    "print(states)"
   ]
  },
  {
   "cell_type": "code",
   "execution_count": 23,
   "metadata": {
    "collapsed": false
   },
   "outputs": [
    {
     "name": "stdout",
     "output_type": "stream",
     "text": [
      "values for uniformly random actions: \n",
      "---------------------------\n",
      "-0.03| 0.09| 0.22| 0.00|\n",
      "---------------------------\n",
      "-0.16| 0.00|-0.44| 0.00|\n",
      "---------------------------\n",
      "-0.29|-0.41|-0.54|-0.77|\n"
     ]
    }
   ],
   "source": [
    "V = dict()\n",
    "for s in states:\n",
    "    V[s] = 0\n",
    "gamma = 1.0\n",
    "while True:\n",
    "    biggest_change = 0\n",
    "    for s in states:\n",
    "        old_v = V[s]\n",
    "        if s in grid.actions:\n",
    "            new_v = 0\n",
    "            p_a = 1.0/len(grid.actions[s])\n",
    "            for a in grid.actions[s]:\n",
    "                grid.set_state(s)\n",
    "                r = grid.move(a)\n",
    "                new_v += p_a*(r+gamma*V[grid.current_state()])\n",
    "            V[s] = new_v\n",
    "            biggest_change = max(biggest_change, np.abs(old_v - V[s]))\n",
    "            \n",
    "    if biggest_change < SMALL_ENOUGH:\n",
    "        break\n",
    "print(\"values for uniformly random actions: \")\n",
    "print_values(V, grid)"
   ]
  },
  {
   "cell_type": "code",
   "execution_count": 24,
   "metadata": {
    "collapsed": false
   },
   "outputs": [
    {
     "name": "stdout",
     "output_type": "stream",
     "text": [
      "---------------------------\n",
      "  R  |  R  |  R  |     |\n",
      "---------------------------\n",
      "  U  |     |  R  |     |\n",
      "---------------------------\n",
      "  U  |  R  |  R  |  U  |\n"
     ]
    }
   ],
   "source": [
    "policy = {\n",
    "    (2, 0): 'U',\n",
    "    (1, 0): 'U',\n",
    "    (0, 0): 'R',\n",
    "    (0, 1): 'R',\n",
    "    (0, 2): 'R',\n",
    "    (1, 2): 'R',\n",
    "    (2, 1): 'R',\n",
    "    (2, 2): 'R',\n",
    "    (2, 3): 'U',\n",
    "  }\n",
    "print_policy(policy, grid)"
   ]
  },
  {
   "cell_type": "code",
   "execution_count": 25,
   "metadata": {
    "collapsed": false
   },
   "outputs": [
    {
     "name": "stdout",
     "output_type": "stream",
     "text": [
      "values for fixed policy\n",
      "---------------------------\n",
      " 0.81| 0.90| 1.00| 0.00|\n",
      "---------------------------\n",
      " 0.73| 0.00|-1.00| 0.00|\n",
      "---------------------------\n",
      " 0.66|-0.81|-0.90|-1.00|\n"
     ]
    }
   ],
   "source": [
    "V = {}\n",
    "for s in states:\n",
    "    V[s] = 0\n",
    "\n",
    "gamma = 0.9\n",
    "\n",
    "while True:\n",
    "    biggest_change = 0\n",
    "    for s in states:\n",
    "        old_v = V[s]\n",
    "        \n",
    "        if s in policy:\n",
    "            a = policy[s]\n",
    "            grid.set_state(s)\n",
    "            r = grid.move(a)\n",
    "            V[s] = r + gamma*V[grid.current_state()]\n",
    "            biggest_change = max(biggest_change, np.abs(old_v-V[s]))\n",
    "    if biggest_change < SMALL_ENOUGH:\n",
    "        break\n",
    "print('values for fixed policy')\n",
    "print_values(V, grid)"
   ]
  },
  {
   "cell_type": "code",
   "execution_count": 26,
   "metadata": {
    "collapsed": false
   },
   "outputs": [
    {
     "name": "stdout",
     "output_type": "stream",
     "text": [
      "rewards: \n",
      "---------------------------\n",
      "-0.10|-0.10|-0.10| 1.00|\n",
      "---------------------------\n",
      "-0.10| 0.00|-0.10|-1.00|\n",
      "---------------------------\n",
      "-0.10|-0.10|-0.10|-0.10|\n"
     ]
    }
   ],
   "source": [
    "# Policy Improvement (optimal policy identification)\n",
    "\n",
    "GAMMA = 0.9\n",
    "ALL_POSSIBLE_ACTIONS = ('U','D','L','R')\n",
    "\n",
    "grid = negative_grid()\n",
    "\n",
    "print('rewards: ')\n",
    "print_values(grid.rewards, grid)"
   ]
  },
  {
   "cell_type": "code",
   "execution_count": 27,
   "metadata": {
    "collapsed": false
   },
   "outputs": [
    {
     "name": "stdout",
     "output_type": "stream",
     "text": [
      "initial policy: \n",
      "---------------------------\n",
      "  L  |  D  |  R  |     |\n",
      "---------------------------\n",
      "  D  |     |  U  |     |\n",
      "---------------------------\n",
      "  R  |  L  |  D  |  U  |\n"
     ]
    }
   ],
   "source": [
    "policy = dict()\n",
    "for s in grid.actions.keys():\n",
    "    policy[s] = np.random.choice(ALL_POSSIBLE_ACTIONS)\n",
    "print('initial policy: ')\n",
    "print_policy(policy, grid)"
   ]
  },
  {
   "cell_type": "code",
   "execution_count": 29,
   "metadata": {
    "collapsed": false
   },
   "outputs": [
    {
     "name": "stdout",
     "output_type": "stream",
     "text": [
      "values: \n",
      "---------------------------\n",
      " 0.62| 0.80| 1.00| 0.00|\n",
      "---------------------------\n",
      " 0.46| 0.00| 0.80| 0.00|\n",
      "---------------------------\n",
      " 0.31| 0.46| 0.62| 0.46|\n",
      "\n",
      "policy: \n",
      "---------------------------\n",
      "  R  |  R  |  R  |     |\n",
      "---------------------------\n",
      "  U  |     |  U  |     |\n",
      "---------------------------\n",
      "  U  |  R  |  U  |  L  |\n"
     ]
    }
   ],
   "source": [
    "V = dict()\n",
    "states = grid.all_states()\n",
    "for s in states:\n",
    "    V[s] = 0\n",
    "while True:\n",
    "    while True:\n",
    "        biggest_change = 0\n",
    "        for s in states:\n",
    "            old_v = V[s]\n",
    "            if s in policy:\n",
    "                a = policy[s]\n",
    "                grid.set_state(s)\n",
    "                r = grid.move(a)\n",
    "                V[s] = r + GAMMA*V[grid.current_state()]\n",
    "                biggest_change = max(biggest_change, np.abs(old_v - V[s]))\n",
    "        if biggest_change < SMALL_ENOUGH:\n",
    "            break\n",
    "    is_policy_converged = True\n",
    "    for s in states:\n",
    "        if s in policy:\n",
    "            old_a = policy[s]\n",
    "            new_a = None\n",
    "            best_value = float('-inf')\n",
    "            for a in ALL_POSSIBLE_ACTIONS:\n",
    "                grid.set_state(s)\n",
    "                r = grid.move(a)\n",
    "                v = r+GAMMA*V[grid.current_state()]\n",
    "                if v>best_value:\n",
    "                    best_value = v\n",
    "                    new_a = a\n",
    "            policy[s] = new_a\n",
    "            if new_a != old_a:\n",
    "                is_policy_converged = False\n",
    "    if is_policy_converged:\n",
    "        break\n",
    "print(\"values: \")\n",
    "print_values(V, grid)\n",
    "print()\n",
    "print('policy: ')\n",
    "print_policy(policy, grid)"
   ]
  },
  {
   "cell_type": "code",
   "execution_count": null,
   "metadata": {
    "collapsed": true
   },
   "outputs": [],
   "source": []
  }
 ],
 "metadata": {
  "kernelspec": {
   "display_name": "Python 3",
   "language": "python",
   "name": "python3"
  },
  "language_info": {
   "codemirror_mode": {
    "name": "ipython",
    "version": 3
   },
   "file_extension": ".py",
   "mimetype": "text/x-python",
   "name": "python",
   "nbconvert_exporter": "python",
   "pygments_lexer": "ipython3",
   "version": "3.5.2"
  }
 },
 "nbformat": 4,
 "nbformat_minor": 2
}
