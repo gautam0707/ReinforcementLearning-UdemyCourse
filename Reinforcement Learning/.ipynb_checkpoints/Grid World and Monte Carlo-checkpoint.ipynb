{
 "cells": [
  {
   "cell_type": "code",
   "execution_count": 1,
   "metadata": {
    "collapsed": false,
    "deletable": true,
    "editable": true
   },
   "outputs": [],
   "source": [
    "import numpy as np\n",
    "from grid_world import standard_grid, negative_grid\n",
    "from iterative_policy_evaluation import print_values, print_policy"
   ]
  },
  {
   "cell_type": "code",
   "execution_count": 2,
   "metadata": {
    "collapsed": true
   },
   "outputs": [],
   "source": [
    "SMALL_ENOUGH = 1e-3\n",
    "GAMMA = 0.9\n",
    "ALL_POSSIBLE_ACTIONS = ('U', 'D', 'L', 'R')"
   ]
  },
  {
   "cell_type": "code",
   "execution_count": 3,
   "metadata": {
    "collapsed": true
   },
   "outputs": [],
   "source": [
    "def play_game(grid, policy):\n",
    "    start_states = grid.actions.keys()\n",
    "    start_idx = np.random.choice(len(start_states))\n",
    "    grid.set_state(list(start_states)[start_idx])\n",
    "    \n",
    "    s = grid.current_state()                    \n",
    "    states_and_rewards = [(s,0)]\n",
    "    while not grid.game_over():\n",
    "        a = policy[s]\n",
    "        r = grid.move(a)\n",
    "        s = grid.current_state()\n",
    "        states_and_rewards.append((s, r))\n",
    "    G = 0\n",
    "    states_and_returns = []        \n",
    "    first = True\n",
    "    for s, r in reversed(states_and_rewards):\n",
    "        if first:\n",
    "            first = False\n",
    "        else:\n",
    "            states_and_returns.append((s,G))\n",
    "        G = r+GAMMA*G\n",
    "    states_and_returns.reverse()\n",
    "    return states_and_returns"
   ]
  },
  {
   "cell_type": "code",
   "execution_count": 4,
   "metadata": {
    "collapsed": false
   },
   "outputs": [
    {
     "name": "stdout",
     "output_type": "stream",
     "text": [
      "rewards: \n",
      "---------------------------\n",
      " 0.00| 0.00| 0.00| 1.00|\n",
      "---------------------------\n",
      " 0.00| 0.00| 0.00|-1.00|\n",
      "---------------------------\n",
      " 0.00| 0.00| 0.00| 0.00|\n",
      "Values: \n",
      "---------------------------\n",
      " 0.81| 0.90| 1.00| 0.00|\n",
      "---------------------------\n",
      " 0.73| 0.00|-1.00| 0.00|\n",
      "---------------------------\n",
      " 0.66|-0.81|-0.90|-1.00|\n",
      "Policy: \n",
      "---------------------------\n",
      "  R  |  R  |  R  |     |\n",
      "---------------------------\n",
      "  U  |     |  R  |     |\n",
      "---------------------------\n",
      "  U  |  R  |  R  |  U  |\n"
     ]
    }
   ],
   "source": [
    "if __name__ == '__main__':\n",
    "    grid = standard_grid()\n",
    "    print(\"rewards: \")\n",
    "    print_values(grid.rewards, grid)\n",
    "    policy = {\n",
    "    (2, 0): 'U',\n",
    "    (1, 0): 'U',\n",
    "    (0, 0): 'R',\n",
    "    (0, 1): 'R',\n",
    "    (0, 2): 'R',\n",
    "    (1, 2): 'R',\n",
    "    (2, 1): 'R',\n",
    "    (2, 2): 'R',\n",
    "    (2, 3): 'U',\n",
    "    }\n",
    "    V = {}\n",
    "    returns = {}\n",
    "    states = grid.all_states()\n",
    "    for s in states:\n",
    "        if s in grid.actions:\n",
    "            returns[s] = []\n",
    "        else:\n",
    "            V[s] = 0\n",
    "    for t in range(100):\n",
    "        states_and_returns = play_game(grid, policy)\n",
    "        seen_states = set()\n",
    "        for s, G in states_and_returns:\n",
    "            if s not in seen_states:\n",
    "                returns[s].append(G)\n",
    "                V[s] = np.mean(returns[s])\n",
    "                seen_states.add(s)\n",
    "    print(\"Values: \")\n",
    "    print_values(V, grid)\n",
    "    print(\"Policy: \")\n",
    "    print_policy(policy, grid)\n",
    "\n",
    "    "
   ]
  },
  {
   "cell_type": "code",
   "execution_count": null,
   "metadata": {
    "collapsed": true
   },
   "outputs": [],
   "source": []
  }
 ],
 "metadata": {
  "kernelspec": {
   "display_name": "Python 3",
   "language": "python",
   "name": "python3"
  },
  "language_info": {
   "codemirror_mode": {
    "name": "ipython",
    "version": 3
   },
   "file_extension": ".py",
   "mimetype": "text/x-python",
   "name": "python",
   "nbconvert_exporter": "python",
   "pygments_lexer": "ipython3",
   "version": "3.5.2"
  }
 },
 "nbformat": 4,
 "nbformat_minor": 2
}
