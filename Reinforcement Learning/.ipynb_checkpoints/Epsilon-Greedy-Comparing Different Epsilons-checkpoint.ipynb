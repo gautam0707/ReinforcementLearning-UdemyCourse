{
 "cells": [
  {
   "cell_type": "code",
   "execution_count": 1,
   "metadata": {
    "collapsed": true
   },
   "outputs": [],
   "source": [
    "# https://deeplearningcourses.com/c/artificial-intelligence-reinforcement-learning-in-python\n",
    "# https://www.udemy.com/artificial-intelligence-reinforcement-learning-in-python\n",
    "from __future__ import print_function, division\n",
    "from builtins import range\n",
    "import numpy as np\n",
    "import matplotlib.pyplot as plt\n",
    "%matplotlib inline"
   ]
  },
  {
   "cell_type": "code",
   "execution_count": 3,
   "metadata": {
    "collapsed": false
   },
   "outputs": [],
   "source": [
    "class Bandit:\n",
    "    def __init__(self, m):\n",
    "        self.m = m\n",
    "        self.mean = 0\n",
    "        self.N = 0\n",
    "    \n",
    "    def pull(self):\n",
    "        return np.random.randn() + self.m\n",
    "    \n",
    "    def update(self, x):\n",
    "        self.N += 1\n",
    "        self.mean = (1 - 1.0/self.N) * self.mean + 1.0/self.N*x"
   ]
  },
  {
   "cell_type": "code",
   "execution_count": null,
   "metadata": {
    "collapsed": true
   },
   "outputs": [],
   "source": [
    "def run_experiment(means, eps, N):\n",
    "    bandits = [Bandit(mean) for mean in means]\n",
    "    # 'data' for plotting\n",
    "    data = np.empty(N)\n",
    "    # epsilon greedy\n",
    "    for i in range(N):\n",
    "        p = np.random.random()\n",
    "        if p < eps:\n",
    "            j = np.random.choice(len(means))\n",
    "        else:\n",
    "            j = np.argmax([b.mean for b in bandits])\n",
    "        x = bandits[j].pull()\n",
    "        bandits[j].update(x)\n",
    "                \n",
    "        data[i] = x\n",
    "    cumulative_average = np.cumsum(data) / (np.arange(N)+1)"
   ]
  }
 ],
 "metadata": {
  "kernelspec": {
   "display_name": "Python 3",
   "language": "python",
   "name": "python3"
  },
  "language_info": {
   "codemirror_mode": {
    "name": "ipython",
    "version": 3
   },
   "file_extension": ".py",
   "mimetype": "text/x-python",
   "name": "python",
   "nbconvert_exporter": "python",
   "pygments_lexer": "ipython3",
   "version": "3.5.2"
  }
 },
 "nbformat": 4,
 "nbformat_minor": 2
}
