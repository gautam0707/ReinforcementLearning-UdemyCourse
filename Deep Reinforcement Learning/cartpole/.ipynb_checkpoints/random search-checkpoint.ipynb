{
 "cells": [
  {
   "cell_type": "code",
   "execution_count": 6,
   "metadata": {
    "collapsed": true
   },
   "outputs": [],
   "source": [
    "import gym\n",
    "import numpy as np\n",
    "import matplotlib.pyplot as plt"
   ]
  },
  {
   "cell_type": "code",
   "execution_count": 7,
   "metadata": {
    "collapsed": true
   },
   "outputs": [],
   "source": [
    "def get_action(s, w):\n",
    "    return 1 if s.dot(w) > 0 else 0"
   ]
  },
  {
   "cell_type": "code",
   "execution_count": 8,
   "metadata": {
    "collapsed": true
   },
   "outputs": [],
   "source": [
    "def play_one_episode(env, params, final=False):\n",
    "    observation = env.reset()\n",
    "    done = False\n",
    "    t = 0\n",
    "    while not done:\n",
    "        if final:\n",
    "            env.render()\n",
    "        t+=1\n",
    "        action = get_action(observation, params)\n",
    "        observation, reward, done, info = env.step(action)\n",
    "        if done:\n",
    "            break\n",
    "    return t"
   ]
  },
  {
   "cell_type": "code",
   "execution_count": 12,
   "metadata": {
    "collapsed": true
   },
   "outputs": [],
   "source": [
    "def play_multiple_episodes(env, T, params, final=False):\n",
    "    episode_lengths = np.empty(T)\n",
    "    \n",
    "    for i in range(T):\n",
    "        episode_lengths[i] = play_one_episode(env, params,final)\n",
    "    avg_length = episode_lengths.mean()\n",
    "    print(\"avg_length: \", avg_length)\n",
    "    return avg_length"
   ]
  },
  {
   "cell_type": "code",
   "execution_count": 13,
   "metadata": {
    "collapsed": true
   },
   "outputs": [],
   "source": [
    "def random_search(env):\n",
    "    episode_lengths = []\n",
    "    best = 0\n",
    "    params = None\n",
    "    for t in range(100):\n",
    "        new_params = np.random.random(4)*2-1\n",
    "        avg_length = play_multiple_episodes(env, 100, new_params)\n",
    "        episode_lengths.append(avg_length)\n",
    "        \n",
    "        if avg_length > best:\n",
    "            params = new_params\n",
    "            best = avg_length\n",
    "    return episode_lengths, params"
   ]
  },
  {
   "cell_type": "code",
   "execution_count": 15,
   "metadata": {
    "collapsed": false
   },
   "outputs": [
    {
     "name": "stdout",
     "output_type": "stream",
     "text": [
      "avg_length:  40.94\n",
      "avg_length:  69.42\n",
      "avg_length:  45.64\n",
      "avg_length:  9.28\n",
      "avg_length:  9.29\n",
      "avg_length:  53.12\n",
      "avg_length:  8.95\n",
      "avg_length:  9.02\n",
      "avg_length:  9.24\n",
      "avg_length:  156.02\n",
      "avg_length:  9.03\n",
      "avg_length:  32.3\n",
      "avg_length:  192.76\n",
      "avg_length:  9.22\n",
      "avg_length:  132.11\n",
      "avg_length:  91.12\n",
      "avg_length:  147.98\n",
      "avg_length:  77.14\n",
      "avg_length:  113.11\n",
      "avg_length:  9.35\n",
      "avg_length:  43.02\n",
      "avg_length:  9.6\n",
      "avg_length:  8.97\n",
      "avg_length:  9.8\n",
      "avg_length:  8.82\n",
      "avg_length:  9.92\n",
      "avg_length:  55.72\n",
      "avg_length:  101.7\n",
      "avg_length:  86.4\n",
      "avg_length:  9.73\n",
      "avg_length:  33.59\n",
      "avg_length:  200.0\n",
      "avg_length:  8.9\n",
      "avg_length:  9.3\n",
      "avg_length:  9.29\n",
      "avg_length:  9.1\n",
      "avg_length:  8.92\n",
      "avg_length:  186.99\n",
      "avg_length:  199.55\n",
      "avg_length:  8.99\n",
      "avg_length:  200.0\n",
      "avg_length:  52.66\n",
      "avg_length:  8.92\n",
      "avg_length:  39.28\n",
      "avg_length:  9.83\n",
      "avg_length:  8.99\n",
      "avg_length:  9.74\n",
      "avg_length:  186.12\n",
      "avg_length:  9.43\n",
      "avg_length:  46.94\n",
      "avg_length:  64.22\n",
      "avg_length:  200.0\n",
      "avg_length:  92.77\n",
      "avg_length:  9.78\n",
      "avg_length:  81.82\n",
      "avg_length:  9.37\n",
      "avg_length:  9.55\n",
      "avg_length:  162.44\n",
      "avg_length:  9.02\n",
      "avg_length:  9.01\n",
      "avg_length:  8.96\n",
      "avg_length:  67.2\n",
      "avg_length:  9.46\n",
      "avg_length:  9.39\n",
      "avg_length:  116.48\n",
      "avg_length:  29.6\n",
      "avg_length:  182.63\n",
      "avg_length:  127.99\n",
      "avg_length:  101.24\n",
      "avg_length:  9.16\n",
      "avg_length:  200.0\n",
      "avg_length:  22.39\n",
      "avg_length:  109.33\n",
      "avg_length:  89.36\n",
      "avg_length:  9.42\n",
      "avg_length:  34.14\n",
      "avg_length:  9.49\n",
      "avg_length:  8.98\n",
      "avg_length:  9.16\n",
      "avg_length:  200.0\n",
      "avg_length:  9.07\n",
      "avg_length:  142.56\n",
      "avg_length:  67.61\n",
      "avg_length:  9.06\n",
      "avg_length:  9.01\n",
      "avg_length:  9.28\n",
      "avg_length:  54.64\n",
      "avg_length:  80.72\n",
      "avg_length:  72.6\n",
      "avg_length:  9.67\n",
      "avg_length:  9.09\n",
      "avg_length:  8.92\n",
      "avg_length:  79.55\n",
      "avg_length:  48.86\n",
      "avg_length:  9.4\n",
      "avg_length:  9.17\n",
      "avg_length:  9.14\n",
      "avg_length:  48.94\n",
      "avg_length:  9.17\n",
      "avg_length:  53.87\n"
     ]
    },
    {
     "data": {
      "image/png": "[encoded data removed]",
      "text/plain": [
       "<matplotlib.figure.Figure at 0x7f3d014edb00>"
      ]
     },
     "metadata": {},
     "output_type": "display_data"
    },
    {
     "name": "stdout",
     "output_type": "stream",
     "text": [
      "***Final run with final weights***\n",
      "avg_length:  200.0\n"
     ]
    }
   ],
   "source": [
    "if __name__ == '__main__':\n",
    "    env = gym.make('CartPole-v0')\n",
    "    episode_lengths, params = random_search(env)\n",
    "    plt.plot(episode_lengths)\n",
    "    plt.show()\n",
    "    print(\"***Final run with final weights***\")\n",
    "    play_multiple_episodes(env, 1, params,True)"
   ]
  },
  {
   "cell_type": "code",
   "execution_count": null,
   "metadata": {
    "collapsed": true
   },
   "outputs": [],
   "source": []
  }
 ],
 "metadata": {
  "kernelspec": {
   "display_name": "Python 3",
   "language": "python",
   "name": "python3"
  },
  "language_info": {
   "codemirror_mode": {
    "name": "ipython",
    "version": 3
   },
   "file_extension": ".py",
   "mimetype": "text/x-python",
   "name": "python",
   "nbconvert_exporter": "python",
   "pygments_lexer": "ipython3",
   "version": "3.5.2"
  }
 },
 "nbformat": 4,
 "nbformat_minor": 2
}
