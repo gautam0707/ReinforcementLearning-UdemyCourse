{
 "cells": [
  {
   "cell_type": "code",
   "execution_count": null,
   "metadata": {
    "collapsed": true,
    "deletable": true,
    "editable": true
   },
   "outputs": [],
   "source": [
    "import gym\n",
    "from gym import wrappers\n",
    "import numpy as np\n",
    "import matplotlib.pyplot as plt"
   ]
  },
  {
   "cell_type": "code",
   "execution_count": null,
   "metadata": {
    "collapsed": true,
    "deletable": true,
    "editable": true
   },
   "outputs": [],
   "source": [
    "def get_action(s, w):\n",
    "    return 1 if s.dot(w) > 0 else 0"
   ]
  },
  {
   "cell_type": "code",
   "execution_count": null,
   "metadata": {
    "collapsed": true,
    "deletable": true,
    "editable": true
   },
   "outputs": [],
   "source": [
    "def play_one_episode(env, params):\n",
    "    observation = env.reset()\n",
    "    done = False\n",
    "    t = 0\n",
    "    while not done:        \n",
    "        t+=1\n",
    "        action = get_action(observation, params)\n",
    "        observation, reward, done, info = env.step(action)\n",
    "        if done:\n",
    "            break\n",
    "    return t"
   ]
  },
  {
   "cell_type": "code",
   "execution_count": null,
   "metadata": {
    "collapsed": true,
    "deletable": true,
    "editable": true
   },
   "outputs": [],
   "source": [
    "def play_multiple_episodes(env, T, params):\n",
    "    episode_lengths = np.empty(T)\n",
    "    \n",
    "    for i in range(T):\n",
    "        episode_lengths[i] = play_one_episode(env, params)\n",
    "    avg_length = episode_lengths.mean()\n",
    "    print(\"avg_length: \", avg_length)\n",
    "    return avg_length"
   ]
  },
  {
   "cell_type": "code",
   "execution_count": null,
   "metadata": {
    "collapsed": true,
    "deletable": true,
    "editable": true
   },
   "outputs": [],
   "source": [
    "def random_search(env):\n",
    "    episode_lengths = []\n",
    "    best = 0\n",
    "    params = None\n",
    "    for t in range(100):\n",
    "        new_params = np.random.random(4)*2-1\n",
    "        avg_length = play_multiple_episodes(env, 100, new_params)\n",
    "        episode_lengths.append(avg_length)\n",
    "        \n",
    "        if avg_length > best:\n",
    "            params = new_params\n",
    "            best = avg_length\n",
    "    return episode_lengths, params"
   ]
  },
  {
   "cell_type": "code",
   "execution_count": null,
   "metadata": {
    "collapsed": false,
    "deletable": true,
    "editable": true,
    "scrolled": false
   },
   "outputs": [],
   "source": [
    "if __name__ == '__main__':\n",
    "    env = gym.make('CartPole-v0')\n",
    "    episode_lengths, params = random_search(env)\n",
    "    plt.plot(episode_lengths)\n",
    "    plt.show()\n",
    "    print(\"***Final run with final weights***\")\n",
    "    env = wrappers.Monitor(env, 'cartpole_video', force=True)\n",
    "    play_multiple_episodes(env, 1, params)"
   ]
  },
  {
   "cell_type": "code",
   "execution_count": null,
   "metadata": {
    "collapsed": true
   },
   "outputs": [],
   "source": []
  }
 ],
 "metadata": {
  "kernelspec": {
   "display_name": "Python 3",
   "language": "python",
   "name": "python3"
  },
  "language_info": {
   "codemirror_mode": {
    "name": "ipython",
    "version": 3
   },
   "file_extension": ".py",
   "mimetype": "text/x-python",
   "name": "python",
   "nbconvert_exporter": "python",
   "pygments_lexer": "ipython3",
   "version": "3.5.2"
  }
 },
 "nbformat": 4,
 "nbformat_minor": 2
}
